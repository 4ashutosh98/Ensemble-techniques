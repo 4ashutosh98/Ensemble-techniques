{
 "cells": [
  {
   "cell_type": "markdown",
   "id": "346ba608",
   "metadata": {},
   "source": [
    "# DOMAIN: Telecom\n",
    "\n",
    "\n",
    "## CONTEXT: \n",
    "\n",
    "A telecom company wants to use their historical customer data to predict behaviour to retain customers. You can analyse all relevant customer data and develop focused customer retention programs.\n",
    "\n",
    "## DATA DESCRIPTION: \n",
    "\n",
    "Each row represents a customer, each column contains customer’s attributes described on the column Metadata. The data set includes information about:\n",
    "\n",
    "• Customers who left within the last month – the column is called Churn\n",
    "\n",
    "• Services that each customer has signed up for – phone, multiple lines, internet, online security, online backup, device protection, tech support, and streaming TV and movies\n",
    "\n",
    "• Customer account information – how long they’ve been a customer, contract, payment method, paperless billing, monthly charges, and total charges\n",
    "\n",
    "• Demographic info about customers – gender, age range, and if they have partners and dependents\n",
    "\n",
    "## PROJECT OBJECTIVE: \n",
    "Build a model that will help to identify the potential customers who have a higher probability to churn. This help the company to understand the pinpoints and patterns of customer churn and will increase the focus on strategising customer retention.\n",
    "\n",
    "• Steps to the project:\n",
    "\n",
    "1. Import and warehouse data:\n",
    "\n",
    "• Import all the given datasets from MYSQL server. Explore shape and size. \n",
    "\n",
    "• Merge all datasets onto one and explore final shape and size.\n",
    "\n",
    "2. Data cleansing: \n",
    "• Missing value treatment\n",
    "\n",
    "• Convert categorical attributes to continuous using relevant functional knowledge\n",
    "\n",
    "• Drop attribute/s if required using relevant functional knowledge\n",
    "\n",
    "• Automate all the above steps\n",
    "\n",
    "3. Data analysis & visualisation: \n",
    "\n",
    "• Perform detailed statistical analysis on the data.\n",
    "\n",
    "• Perform a detailed univariate, bivariate and multivariate analysis with appropriate detailed comments after each analysis. \n",
    "\n",
    "4. Data pre-processing: \n",
    "\n",
    "• Segregate predictors vs target attributes\n",
    "\n",
    "• Check for target balancing and fix it if found imbalanced.\n",
    "\n",
    "• Perform train-test split.\n",
    "\n",
    "• Check if the train and test data have similar statistical characteristics when compared with original data.\n",
    "\n",
    "5. Model training, testing and tuning: \n",
    "\n",
    "• Train and test all ensemble models taught in the learning module.\n",
    "\n",
    "• Suggestion: Use standard ensembles available. Also you can design your own ensemble technique using weak classifiers.\n",
    "\n",
    "• Display the classification accuracies for train and test data.\n",
    "\n",
    "• Apply all the possible tuning techniques to train the best model for the given data. \n",
    "\n",
    "• Suggestion: Use all possible hyper parameter combinations to extract the best accuracies. \n",
    "\n",
    "• Display and compare all the models designed with their train and test accuracies.\n",
    "\n",
    "• Select the final best trained model along with your detailed comments for selecting this model. \n",
    "\n",
    "• Pickle the selected model for future use.\n",
    "\n",
    "6. GUI development: \n",
    "\n",
    "• Design a clickable GUI desk application or web service application.\n",
    "\n",
    "• This GUI should allow the user to input all future values and on a click use these values on the trained model above to predict.\n",
    "\n",
    "• It should display the prediction.\n",
    "\n",
    "7. Conclusion and improvisation: \n",
    "• Write your conclusion on the results.\n",
    "\n",
    "• Detailed suggestions or improvements or on quality, quantity, variety, velocity, veracity etc. on the data points collected by the telecom operator to perform a better data analysis in future."
   ]
  },
  {
   "cell_type": "code",
   "execution_count": 1,
   "id": "c5536ea1",
   "metadata": {},
   "outputs": [
    {
     "ename": "ModuleNotFoundError",
     "evalue": "No module named 'xgboost'",
     "output_type": "error",
     "traceback": [
      "\u001b[1;31m---------------------------------------------------------------------------\u001b[0m",
      "\u001b[1;31mModuleNotFoundError\u001b[0m                       Traceback (most recent call last)",
      "\u001b[1;32m~\\AppData\\Local\\Temp\\ipykernel_20600\\1093644992.py\u001b[0m in \u001b[0;36m<module>\u001b[1;34m\u001b[0m\n\u001b[0;32m     15\u001b[0m \u001b[1;32mfrom\u001b[0m \u001b[0msklearn\u001b[0m \u001b[1;32mimport\u001b[0m \u001b[0mmetrics\u001b[0m\u001b[1;33m\u001b[0m\u001b[1;33m\u001b[0m\u001b[0m\n\u001b[0;32m     16\u001b[0m \u001b[1;33m\u001b[0m\u001b[0m\n\u001b[1;32m---> 17\u001b[1;33m \u001b[1;32mimport\u001b[0m \u001b[0mxgboost\u001b[0m \u001b[1;32mas\u001b[0m \u001b[0mxgb\u001b[0m\u001b[1;33m\u001b[0m\u001b[1;33m\u001b[0m\u001b[0m\n\u001b[0m\u001b[0;32m     18\u001b[0m \u001b[1;32mfrom\u001b[0m \u001b[0mxgboost\u001b[0m \u001b[1;32mimport\u001b[0m \u001b[0mXGBClassifier\u001b[0m\u001b[1;33m\u001b[0m\u001b[1;33m\u001b[0m\u001b[0m\n\u001b[0;32m     19\u001b[0m \u001b[1;32mfrom\u001b[0m \u001b[0mxgboost\u001b[0m \u001b[1;32mimport\u001b[0m \u001b[0mplot_importance\u001b[0m\u001b[1;33m\u001b[0m\u001b[1;33m\u001b[0m\u001b[0m\n",
      "\u001b[1;31mModuleNotFoundError\u001b[0m: No module named 'xgboost'"
     ]
    }
   ],
   "source": [
    "#import mysql.connector as sql\n",
    "import numpy as np\n",
    "import pandas as pd\n",
    "import seaborn as sns\n",
    "import matplotlib.pyplot as plt\n",
    "\n",
    "from sklearn.model_selection import train_test_split\n",
    "from sklearn.model_selection import KFold\n",
    "from sklearn.model_selection import GridSearchCV\n",
    "from sklearn.model_selection import cross_val_score\n",
    "from sklearn.preprocessing import LabelEncoder\n",
    "from sklearn.tree import DecisionTreeClassifier\n",
    "from sklearn.ensemble import AdaBoostClassifier\n",
    "from sklearn.ensemble import GradientBoostingClassifier\n",
    "from sklearn import metrics\n",
    "\n",
    "import xgboost as xgb\n",
    "from xgboost import XGBClassifier\n",
    "from xgboost import plot_importance\n",
    "\n",
    "%matplotlib inline"
   ]
  },
  {
   "cell_type": "markdown",
   "id": "652d304c",
   "metadata": {},
   "source": [
    "# 1. Import and warehouse data:"
   ]
  },
  {
   "cell_type": "code",
   "execution_count": null,
   "id": "f0f92950",
   "metadata": {},
   "outputs": [],
   "source": [
    "# db_connection = sql.connect(host = '127.0.0.1', database = 'dataset1', user = 'root' , password = 'ashutosh49')\n",
    "# df1=pd.read_sql('SELECT * FROM telcomcustomerchurn_1', con=db_connection)"
   ]
  },
  {
   "cell_type": "code",
   "execution_count": null,
   "id": "ab18786f",
   "metadata": {},
   "outputs": [],
   "source": [
    "#df1=df1.drop(df1[['telcomcustomerchurn_1_id']],axis=1)\n",
    "#df1"
   ]
  },
  {
   "cell_type": "code",
   "execution_count": null,
   "id": "814914d4",
   "metadata": {},
   "outputs": [],
   "source": [
    "#df1 = pd.read_csv('TelcomCustomer-Churn_1.csv')\n",
    "#df1"
   ]
  },
  {
   "cell_type": "markdown",
   "id": "65ff125d",
   "metadata": {},
   "source": [
    "### Since the data from telcomcustomer-churn_2 cannot be opened in MySQL, we will be directly importing the data from the .csv file."
   ]
  },
  {
   "cell_type": "code",
   "execution_count": null,
   "id": "eaa24f49",
   "metadata": {},
   "outputs": [],
   "source": [
    "#df2 = pd.read_csv('TelcomCustomer-Churn_2.csv')\n",
    "#df2"
   ]
  },
  {
   "cell_type": "code",
   "execution_count": null,
   "id": "705639be",
   "metadata": {},
   "outputs": [],
   "source": [
    "#print(df1.shape)\n",
    "#print(df2.shape)\n",
    "#print(df1.size)\n",
    "#print(df2.size)"
   ]
  },
  {
   "cell_type": "code",
   "execution_count": null,
   "id": "e71fb30a",
   "metadata": {},
   "outputs": [],
   "source": [
    "#df=pd.merge(df1,df2,left_index=True, right_index=True)\n",
    "#df"
   ]
  },
  {
   "cell_type": "markdown",
   "id": "75003b5d",
   "metadata": {},
   "source": [
    "### In this project, I have tried to use MySQL and was also successful in it. But the MySQL connector library and Xgboost library did not support the same python versions. Hence, I had to make a choice between one of the two libraries.\n",
    "## I have written the MySQL code above in comments."
   ]
  },
  {
   "cell_type": "code",
   "execution_count": null,
   "id": "ff993350",
   "metadata": {},
   "outputs": [],
   "source": [
    "df = pd.read_csv('TelcomCustomer-Churn.csv')"
   ]
  },
  {
   "cell_type": "code",
   "execution_count": null,
   "id": "c9d4dd9d",
   "metadata": {},
   "outputs": [],
   "source": [
    "df.describe(include='all').transpose()"
   ]
  },
  {
   "cell_type": "code",
   "execution_count": null,
   "id": "1f58085d",
   "metadata": {},
   "outputs": [],
   "source": [
    "df.info()"
   ]
  },
  {
   "cell_type": "markdown",
   "id": "9f70234a",
   "metadata": {},
   "source": [
    "# 2. data cleansing"
   ]
  },
  {
   "cell_type": "code",
   "execution_count": null,
   "id": "9db40bd6",
   "metadata": {},
   "outputs": [],
   "source": [
    "df.isnull().sum()"
   ]
  },
  {
   "cell_type": "code",
   "execution_count": null,
   "id": "e6d9ed8d",
   "metadata": {},
   "outputs": [],
   "source": [
    "df.describe(include = 'all').transpose()"
   ]
  },
  {
   "cell_type": "code",
   "execution_count": null,
   "id": "b6c22a09",
   "metadata": {},
   "outputs": [],
   "source": [
    "df.head(20)"
   ]
  },
  {
   "cell_type": "code",
   "execution_count": null,
   "id": "e6cfa127",
   "metadata": {},
   "outputs": [],
   "source": [
    "print(df.gender.value_counts())\n",
    "print(df.SeniorCitizen.value_counts())\n",
    "print(df.Partner.value_counts())\n",
    "print(df.Dependents.value_counts())\n",
    "print(df.PhoneService.value_counts())\n",
    "print(df.MultipleLines.value_counts())\n",
    "print(df.InternetService.value_counts())\n",
    "print(df.OnlineSecurity.value_counts())\n",
    "print(df.OnlineBackup.value_counts())\n",
    "print(df.DeviceProtection.value_counts())\n",
    "print(df.TechSupport.value_counts())\n",
    "print(df.StreamingTV.value_counts())\n",
    "print(df.StreamingMovies.value_counts())\n",
    "print(df.Contract.value_counts())\n",
    "print(df.PaperlessBilling.value_counts())\n",
    "print(df.PaymentMethod.value_counts())\n",
    "print(df.Churn.value_counts())"
   ]
  },
  {
   "cell_type": "code",
   "execution_count": null,
   "id": "4d9e7dcd",
   "metadata": {},
   "outputs": [],
   "source": [
    "replaceStruct= {\n",
    "    \"gender\" : {\"Female\" : 0, \"Male\" : 1},\n",
    "    \"Partner\" : {\"No\": 0, \"Yes\": 1},\n",
    "    \"Dependents\" : {\"No\": 0, \"Yes\": 1},\n",
    "    \"PhoneService\" : {\"No\": 0, \"Yes\": 1},\n",
    "    \"MultipleLines\" : {\"No\": 0, \"Yes\": 1, \"No phone service\" : 0},\n",
    "    \"InternetService\" : {\"No\" :0, \"DSL\" : 1 , \"Fiber optic\" : 2},\n",
    "    \"OnlineSecurity\" : {\"No\" : 0 , \"Yes\" : 1, \"No internet service\" : 0},\n",
    "    \"OnlineBackup\" : {\"No\" : 0 , \"Yes\" : 1 , \"No internet service\" : 0},\n",
    "    \"DeviceProtection\" : {\"No\" : 0 , \"Yes\" : 1, \"No internet service\" : 0},\n",
    "    \"TechSupport\" : {\"No\" : 0 , \"Yes\" : 1 , \"No internet service\" : 0},\n",
    "    \"StreamingTV\" : {\"No\" : 0 , \"Yes\" : 1, \"No internet service\" : 0},\n",
    "    \"StreamingMovies\" : {\"No\" : 0 , \"Yes\" : 1 , \"No internet service\" : 0},\n",
    "    \"Contract\" : {\"Month-to-month\": 0 , \"One year\" : 1 , \"Two year\" : 2},\n",
    "    \"PaperlessBilling\" : {\"No\": 0, \"Yes\": 1},\n",
    "    \"PaymentMethod\" : {\"Electronic check\" : 0 , \"Mailed check\" : 1, \"Bank transfer (automatic)\" : 2 , \"Credit card (automatic)\" : 3},\n",
    "    \"Churn\" : {\"No\": 0, \"Yes\": 1}\n",
    "}"
   ]
  },
  {
   "cell_type": "code",
   "execution_count": null,
   "id": "cb5c49b9",
   "metadata": {},
   "outputs": [],
   "source": [
    "df=df.replace(replaceStruct)"
   ]
  },
  {
   "cell_type": "code",
   "execution_count": null,
   "id": "c407a5b7",
   "metadata": {},
   "outputs": [],
   "source": [
    "df.head(20)"
   ]
  },
  {
   "cell_type": "markdown",
   "id": "b4d51daa",
   "metadata": {},
   "source": [
    "Since the column of customerID will not provide any meaningful insight in the data, we will drop the column."
   ]
  },
  {
   "cell_type": "code",
   "execution_count": null,
   "id": "dd2501aa",
   "metadata": {},
   "outputs": [],
   "source": [
    "df=df.drop(df[['customerID']],axis=1)"
   ]
  },
  {
   "cell_type": "markdown",
   "id": "16a2660f",
   "metadata": {},
   "source": [
    "The data type of the TotalCharges column is object. So, we convert it to float64. And fill the missing values with the mean of the data."
   ]
  },
  {
   "cell_type": "code",
   "execution_count": null,
   "id": "21d6c6fd",
   "metadata": {},
   "outputs": [],
   "source": [
    "df.TotalCharges= pd.to_numeric(df.TotalCharges, errors='coerce')\n",
    "df.TotalCharges=df.TotalCharges.fillna(np.mean(df.TotalCharges))"
   ]
  },
  {
   "cell_type": "markdown",
   "id": "a3ade66e",
   "metadata": {},
   "source": [
    "# 3. Data analysis & visualisation"
   ]
  },
  {
   "cell_type": "code",
   "execution_count": null,
   "id": "582cd76d",
   "metadata": {},
   "outputs": [],
   "source": [
    "df.info()"
   ]
  },
  {
   "cell_type": "code",
   "execution_count": null,
   "id": "290244ca",
   "metadata": {},
   "outputs": [],
   "source": [
    "df.describe(include='all').transpose()"
   ]
  },
  {
   "cell_type": "code",
   "execution_count": null,
   "id": "df138f0d",
   "metadata": {},
   "outputs": [],
   "source": [
    "sns.histplot(df.tenure,kde=True)"
   ]
  },
  {
   "cell_type": "code",
   "execution_count": null,
   "id": "18d96500",
   "metadata": {},
   "outputs": [],
   "source": [
    "sns.histplot(df.MonthlyCharges,kde=True)"
   ]
  },
  {
   "cell_type": "code",
   "execution_count": null,
   "id": "baa42c8b",
   "metadata": {},
   "outputs": [],
   "source": [
    "sns.histplot(df.TotalCharges,kde=True)"
   ]
  },
  {
   "cell_type": "code",
   "execution_count": null,
   "id": "2a27ee12",
   "metadata": {},
   "outputs": [],
   "source": [
    "sns.pairplot(df)"
   ]
  },
  {
   "cell_type": "code",
   "execution_count": null,
   "id": "01f90c8d",
   "metadata": {
    "scrolled": true
   },
   "outputs": [],
   "source": [
    "correl=df.corr()\n",
    "correl"
   ]
  },
  {
   "cell_type": "code",
   "execution_count": null,
   "id": "1ed9c609",
   "metadata": {},
   "outputs": [],
   "source": [
    "plt.subplots(figsize=(20,20))\n",
    "sns.heatmap(correl,annot=True)"
   ]
  },
  {
   "cell_type": "markdown",
   "id": "f241f623",
   "metadata": {},
   "source": [
    "# 4. Data pre-processing:"
   ]
  },
  {
   "cell_type": "code",
   "execution_count": null,
   "id": "baaf3db6",
   "metadata": {},
   "outputs": [],
   "source": [
    "X=df.drop(df[['Churn']],axis=1)\n",
    "y=df[['Churn']]"
   ]
  },
  {
   "cell_type": "code",
   "execution_count": null,
   "id": "adc33c69",
   "metadata": {},
   "outputs": [],
   "source": [
    "y.value_counts()/y.value_counts().sum()*100"
   ]
  },
  {
   "cell_type": "markdown",
   "id": "012ad2a8",
   "metadata": {},
   "source": [
    "### 73.46% of the Churn data is belongs to the category 0 i.e. Customer will not churn\n",
    "### and 26.53% of the Churn data is belongs to the category 1 i.e. Customer will churn\n",
    "### target balancing is not required"
   ]
  },
  {
   "cell_type": "code",
   "execution_count": null,
   "id": "a75669f2",
   "metadata": {},
   "outputs": [],
   "source": [
    "from sklearn.model_selection import train_test_split\n",
    "\n",
    "X_train, X_test, y_train, y_test = train_test_split(X, y, test_size=.30, random_state=1)"
   ]
  },
  {
   "cell_type": "markdown",
   "id": "1451c04e",
   "metadata": {},
   "source": [
    "# 5. Model training, testing and tuning: "
   ]
  },
  {
   "cell_type": "markdown",
   "id": "491860ad",
   "metadata": {},
   "source": [
    "# Ensemble Techniques - Decision Tree"
   ]
  },
  {
   "cell_type": "code",
   "execution_count": null,
   "id": "495d5ca8",
   "metadata": {},
   "outputs": [],
   "source": [
    "from sklearn.tree import DecisionTreeClassifier\n",
    "\n",
    "dTree=DecisionTreeClassifier(criterion='gini',random_state=1)\n",
    "dTree.fit(X_train,y_train)"
   ]
  },
  {
   "cell_type": "code",
   "execution_count": null,
   "id": "15501179",
   "metadata": {},
   "outputs": [],
   "source": [
    "print(dTree.score(X_train,y_train))\n",
    "print(dTree.score(X_test,y_test))"
   ]
  },
  {
   "cell_type": "code",
   "execution_count": null,
   "id": "0480b340",
   "metadata": {},
   "outputs": [],
   "source": [
    "import matplotlib.pyplot as plt\n",
    "from sklearn.tree import plot_tree\n",
    "fn=list(X_train)\n",
    "cn=[\"0\",\"1\"]\n",
    "fig,axes=plt.subplots(nrows =1, ncols=1, figsize=(4,4),dpi=300)\n",
    "plot_tree(dTree,feature_names = fn, class_names=cn, filled= True)\n",
    "fig.savefig(\"dtree.png\")"
   ]
  },
  {
   "cell_type": "code",
   "execution_count": null,
   "id": "61d199f5",
   "metadata": {},
   "outputs": [],
   "source": [
    "print(pd.DataFrame(dTree.feature_importances_, columns = [\"Imp\"], index = X_train.columns))"
   ]
  },
  {
   "cell_type": "code",
   "execution_count": null,
   "id": "18a17b2e",
   "metadata": {},
   "outputs": [],
   "source": [
    "decTree=DecisionTreeClassifier(criterion='gini',max_depth=4, random_state=1)\n",
    "decTree.fit(X_train,y_train)"
   ]
  },
  {
   "cell_type": "code",
   "execution_count": null,
   "id": "90b1a64f",
   "metadata": {},
   "outputs": [],
   "source": [
    "print(decTree.score(X_train,y_train))\n",
    "print(decTree.score(X_test,y_test))"
   ]
  },
  {
   "cell_type": "code",
   "execution_count": null,
   "id": "b60fb463",
   "metadata": {},
   "outputs": [],
   "source": [
    "import matplotlib.pyplot as plt\n",
    "from sklearn.tree import plot_tree\n",
    "fn=X_train.columns\n",
    "cn=[\"0\",\"1\"]\n",
    "fig,axes=plt.subplots(nrows =1, ncols=1, figsize=(10,10),dpi=500)\n",
    "plot_tree(decTree,feature_names = fn, class_names=cn, filled= True)\n",
    "fig.savefig(\"dectree.png\")"
   ]
  },
  {
   "cell_type": "code",
   "execution_count": null,
   "id": "8452381a",
   "metadata": {},
   "outputs": [],
   "source": [
    "print (pd.DataFrame(decTree.feature_importances_, columns = [\"Imp\"], index = X_train.columns))"
   ]
  },
  {
   "cell_type": "code",
   "execution_count": null,
   "id": "9a19135d",
   "metadata": {},
   "outputs": [],
   "source": [
    "from sklearn.metrics import confusion_matrix\n",
    "y_predict = decTree.predict(X_test)\n",
    "cm=confusion_matrix(y_test, y_predict, labels=[0,1])\n",
    "\n",
    "df_cm = pd.DataFrame(cm,index = [i for i in [\"0\",\"1\"]],columns = [i for i in [\"0\",\"1\"]])\n",
    "\n",
    "plt.figure(figsize=(7,5))\n",
    "sns.heatmap(df_cm,annot=True,fmt= 'g')"
   ]
  },
  {
   "cell_type": "markdown",
   "id": "4a587fb7",
   "metadata": {},
   "source": [
    "# Ensemble Learning - Bagging"
   ]
  },
  {
   "cell_type": "code",
   "execution_count": null,
   "id": "45cc3113",
   "metadata": {},
   "outputs": [],
   "source": [
    "from sklearn.ensemble import BaggingClassifier\n",
    "bgcl=BaggingClassifier(base_estimator=decTree,n_estimators=50, random_state=1)\n",
    "bgcl = bgcl.fit(X_train,y_train)"
   ]
  },
  {
   "cell_type": "code",
   "execution_count": null,
   "id": "b6a9d896",
   "metadata": {},
   "outputs": [],
   "source": [
    "y_predict = bgcl.predict(X_test)\n",
    "\n",
    "print(bgcl.score(X_train,y_train))\n",
    "print(bgcl.score(X_test,y_test))\n",
    "cm=confusion_matrix(y_test, y_predict,labels=[0, 1])\n",
    "\n",
    "df_cm = pd.DataFrame(cm, index = [i for i in [\"No\",\"Yes\"]],\n",
    "                  columns = [i for i in [\"No\",\"Yes\"]])\n",
    "plt.figure(figsize = (7,5))\n",
    "sns.heatmap(df_cm, annot=True ,fmt='g')"
   ]
  },
  {
   "cell_type": "markdown",
   "id": "16f7dce7",
   "metadata": {},
   "source": [
    "# Ensemble Learning - AdaBoosting"
   ]
  },
  {
   "cell_type": "code",
   "execution_count": null,
   "id": "8028b795",
   "metadata": {},
   "outputs": [],
   "source": [
    "from sklearn.ensemble import AdaBoostClassifier\n",
    "tree = DecisionTreeClassifier(max_depth=3)\n",
    "abcl = AdaBoostClassifier(base_estimator =tree,n_estimators=100, learning_rate =1.5,algorithm=\"SAMME\", random_state=1)\n",
    "abcl = abcl.fit(X_train, y_train)\n",
    "print(abcl)"
   ]
  },
  {
   "cell_type": "code",
   "execution_count": null,
   "id": "84d86a58",
   "metadata": {},
   "outputs": [],
   "source": [
    "y_predict = abcl.predict(X_test)\n",
    "print(abcl.score(X_train , y_train))\n",
    "print(abcl.score(X_test , y_test))\n",
    "\n",
    "cm=confusion_matrix(y_test, y_predict,labels=[0, 1])\n",
    "\n",
    "df_cm = pd.DataFrame(cm, index = [i for i in [\"No\",\"Yes\"]],\n",
    "                  columns = [i for i in [\"No\",\"Yes\"]])\n",
    "plt.figure(figsize = (7,5))\n",
    "sns.heatmap(df_cm, annot=True ,fmt='g')"
   ]
  },
  {
   "cell_type": "code",
   "execution_count": null,
   "id": "6539fcb5",
   "metadata": {},
   "outputs": [],
   "source": [
    "# parameter grid\n",
    "param_grid = {\"base_estimator__max_depth\" : [2, 3],\n",
    "              \"n_estimators\": [50, 100, 200]\n",
    "             }"
   ]
  },
  {
   "cell_type": "code",
   "execution_count": null,
   "id": "491ff05d",
   "metadata": {},
   "outputs": [],
   "source": [
    "# base estimator\n",
    "tree = DecisionTreeClassifier()\n",
    "\n",
    "# adaboost with the tree as base estimator\n",
    "# learning rate is arbitrarily set to 0.6, we'll discuss learning_rate below\n",
    "ABC = AdaBoostClassifier(\n",
    "    base_estimator=tree,\n",
    "    learning_rate=0.1,\n",
    "    algorithm=\"SAMME.R\")"
   ]
  },
  {
   "cell_type": "code",
   "execution_count": null,
   "id": "81d872c3",
   "metadata": {},
   "outputs": [],
   "source": [
    "# run grid search\n",
    "folds = 3\n",
    "grid_search_ABC = GridSearchCV(ABC, \n",
    "                               cv = folds,\n",
    "                               param_grid=param_grid, \n",
    "                               scoring = 'roc_auc', \n",
    "                               return_train_score=True,                         \n",
    "                               verbose = 1)\n"
   ]
  },
  {
   "cell_type": "code",
   "execution_count": null,
   "id": "6beedca1",
   "metadata": {},
   "outputs": [],
   "source": [
    "# fit \n",
    "grid_search_ABC.fit(X_train, y_train)"
   ]
  },
  {
   "cell_type": "code",
   "execution_count": null,
   "id": "2ef78e69",
   "metadata": {},
   "outputs": [],
   "source": [
    "# cv results\n",
    "cv_results = pd.DataFrame(grid_search_ABC.cv_results_)\n",
    "cv_results"
   ]
  },
  {
   "cell_type": "code",
   "execution_count": null,
   "id": "51ce8cb1",
   "metadata": {},
   "outputs": [],
   "source": [
    "# plotting AUC with hyperparameter combinations\n",
    "\n",
    "plt.figure(figsize=(16,6))\n",
    "for n, depth in enumerate(param_grid['base_estimator__max_depth']):\n",
    "    \n",
    "\n",
    "    # subplot 1/n\n",
    "    plt.subplot(1,3, n+1)\n",
    "    depth_df = cv_results[cv_results['param_base_estimator__max_depth']==depth]\n",
    "\n",
    "    plt.plot(depth_df[\"param_n_estimators\"], depth_df[\"mean_test_score\"])\n",
    "    plt.plot(depth_df[\"param_n_estimators\"], depth_df[\"mean_train_score\"])\n",
    "    plt.xlabel('n_estimators')\n",
    "    plt.ylabel('AUC')\n",
    "    plt.title(\"max_depth={0}\".format(depth))\n",
    "    plt.ylim([0.60, 1])\n",
    "    plt.legend(['test score', 'train score'], loc='upper left')\n",
    "    plt.xscale('log')\n",
    "\n",
    "    \n"
   ]
  },
  {
   "cell_type": "markdown",
   "id": "0dcad1af",
   "metadata": {},
   "source": [
    "# Ensemble Learning - GradientBoost"
   ]
  },
  {
   "cell_type": "code",
   "execution_count": null,
   "id": "95da8f01",
   "metadata": {},
   "outputs": [],
   "source": [
    "from sklearn.ensemble import GradientBoostingClassifier\n",
    "gbcl = GradientBoostingClassifier(n_estimators = 50,random_state=1)\n",
    "gbcl = gbcl.fit(X_train, y_train)"
   ]
  },
  {
   "cell_type": "code",
   "execution_count": null,
   "id": "49bd7d0a",
   "metadata": {},
   "outputs": [],
   "source": [
    "y_predict = gbcl.predict(X_test)\n",
    "print(gbcl.score(X_train, y_train))\n",
    "print(gbcl.score(X_test, y_test))\n",
    "cm=confusion_matrix(y_test, y_predict,labels=[0, 1])\n",
    "\n",
    "df_cm = pd.DataFrame(cm, index = [i for i in [\"No\",\"Yes\"]],\n",
    "                  columns = [i for i in [\"No\",\"Yes\"]])\n",
    "plt.figure(figsize = (7,5))\n",
    "sns.heatmap(df_cm, annot=True ,fmt='g')"
   ]
  },
  {
   "cell_type": "code",
   "execution_count": null,
   "id": "8dc6a960",
   "metadata": {},
   "outputs": [],
   "source": [
    "# parameter grid\n",
    "param_grid = {\"learning_rate\": [0.6,1.0, 1.5],\n",
    "              \"subsample\": [0.3, 0.6, 0.9]\n",
    "             }"
   ]
  },
  {
   "cell_type": "code",
   "execution_count": null,
   "id": "bf7f13cb",
   "metadata": {},
   "outputs": [],
   "source": [
    "# adaboost with the tree as base estimator\n",
    "GBC = GradientBoostingClassifier(max_depth=2, n_estimators=200)"
   ]
  },
  {
   "cell_type": "code",
   "execution_count": null,
   "id": "0e311ec0",
   "metadata": {},
   "outputs": [],
   "source": [
    "# run grid search\n",
    "folds = 3\n",
    "grid_search_GBC = GridSearchCV(GBC, \n",
    "                               cv = folds,\n",
    "                               param_grid=param_grid, \n",
    "                               scoring = 'roc_auc', \n",
    "                               return_train_score=True,                         \n",
    "                               verbose = 1)\n",
    "\n",
    "grid_search_GBC.fit(X_train, y_train)"
   ]
  },
  {
   "cell_type": "code",
   "execution_count": null,
   "id": "da8b7066",
   "metadata": {},
   "outputs": [],
   "source": [
    "cv_results = pd.DataFrame(grid_search_GBC.cv_results_)\n",
    "cv_results.head()"
   ]
  },
  {
   "cell_type": "code",
   "execution_count": null,
   "id": "d263444f",
   "metadata": {},
   "outputs": [],
   "source": [
    "# # plotting\n",
    "plt.figure(figsize=(16,6))\n",
    "\n",
    "\n",
    "for n, subsample in enumerate(param_grid['subsample']):\n",
    "    \n",
    "\n",
    "    # subplot 1/n\n",
    "    plt.subplot(1,len(param_grid['subsample']), n+1)\n",
    "    df = cv_results[cv_results['param_subsample']==subsample]\n",
    "\n",
    "    plt.plot(df[\"param_learning_rate\"], df[\"mean_test_score\"])\n",
    "    plt.plot(df[\"param_learning_rate\"], df[\"mean_train_score\"])\n",
    "    plt.xlabel('learning_rate')\n",
    "    plt.ylabel('AUC')\n",
    "    plt.title(\"subsample={0}\".format(subsample))\n",
    "    plt.ylim([0.60, 1])\n",
    "    plt.legend(['test score', 'train score'], loc='upper left')\n",
    "    plt.xscale('log')\n"
   ]
  },
  {
   "cell_type": "markdown",
   "id": "8a04dfc0",
   "metadata": {},
   "source": [
    "# Ensemble Learning - Random Forest Classifier"
   ]
  },
  {
   "cell_type": "code",
   "execution_count": null,
   "id": "092536e5",
   "metadata": {},
   "outputs": [],
   "source": [
    "from sklearn.ensemble import RandomForestClassifier\n",
    "rfcl = RandomForestClassifier(n_estimators = 50, random_state=1,max_features=12)\n",
    "rfcl = rfcl.fit(X_train, y_train)"
   ]
  },
  {
   "cell_type": "code",
   "execution_count": null,
   "id": "1b76a8f0",
   "metadata": {},
   "outputs": [],
   "source": [
    "y_predict = rfcl.predict(X_test)\n",
    "\n",
    "print(rfcl.score(X_train, y_train))\n",
    "print(rfcl.score(X_test, y_test))\n",
    "cm=confusion_matrix(y_test, y_predict,labels=[0, 1])\n",
    "\n",
    "df_cm = pd.DataFrame(cm, index = [i for i in [\"No\",\"Yes\"]],\n",
    "                  columns = [i for i in [\"No\",\"Yes\"]])\n",
    "plt.figure(figsize = (7,5))\n",
    "sns.heatmap(df_cm, annot=True ,fmt='g')"
   ]
  },
  {
   "cell_type": "markdown",
   "id": "208b57d5",
   "metadata": {},
   "source": [
    "# Ensemble Learning - XGBoost"
   ]
  },
  {
   "cell_type": "code",
   "execution_count": null,
   "id": "6b2dd01f",
   "metadata": {
    "_cell_guid": "2c974205-ceae-45d7-ac5c-06c49449e772",
    "_uuid": "25d4621636d95e27ee661f4d6a62532671f678b6",
    "scrolled": true
   },
   "outputs": [],
   "source": [
    "# fit model on training data with default hyperparameters\n",
    "model = XGBClassifier()\n",
    "model.fit(X_train, y_train)"
   ]
  },
  {
   "cell_type": "code",
   "execution_count": null,
   "id": "995ea7ec",
   "metadata": {
    "_cell_guid": "3d7ecd8f-856e-4405-9251-4128a31501b4",
    "_uuid": "92d6a9195af92f42514cbeec09585b083bc304cf"
   },
   "outputs": [],
   "source": [
    "# make predictions for test data\n",
    "# use predict_proba since we need probabilities to compute auc\n",
    "y_pred = model.predict_proba(X_test)\n",
    "y_pred[:10]"
   ]
  },
  {
   "cell_type": "code",
   "execution_count": null,
   "id": "ef4775e4",
   "metadata": {
    "_cell_guid": "26c5a5e3-b0ab-4b38-b31e-02aa2f94b6d2",
    "_uuid": "6761becf4d2447a77b9df32f7bb36b9331a16234",
    "scrolled": false
   },
   "outputs": [],
   "source": [
    "# evaluate predictions\n",
    "roc = metrics.roc_auc_score(y_test, y_pred[:, 1])\n",
    "print(\"AUC: %.2f%%\" % (roc * 100.0))"
   ]
  },
  {
   "cell_type": "markdown",
   "id": "2d66c0e9",
   "metadata": {
    "_cell_guid": "2b2f8b31-33e9-454e-9393-263e628c3719",
    "_uuid": "309df6cbd77f3c31140606f4e0b620db53b87f35"
   },
   "source": [
    "Let's now try tuning the hyperparameters using k-fold CV. We'll then use grid search CV to find the optimal values of hyperparameters."
   ]
  },
  {
   "cell_type": "code",
   "execution_count": null,
   "id": "08103dc7",
   "metadata": {
    "_cell_guid": "06427904-5c5e-4e36-bef9-1cf74e1be8c6",
    "_uuid": "7189e86b264593e6946cac56b267f38640257c49"
   },
   "outputs": [],
   "source": [
    "# hyperparameter tuning with XGBoost\n",
    "\n",
    "# creating a KFold object \n",
    "folds = 3\n",
    "\n",
    "# specify range of hyperparameters\n",
    "param_grid = {'learning_rate': [0.2, 0.6], \n",
    "             'subsample': [0.1, 0.2, 0.3]}          \n",
    "\n",
    "\n",
    "# specify model\n",
    "xgb_model = XGBClassifier(max_depth=3, n_estimators=200)\n",
    "\n",
    "# set up GridSearchCV()\n",
    "model_cv = GridSearchCV(estimator = xgb_model, \n",
    "                        param_grid = param_grid, \n",
    "                        scoring= 'roc_auc', \n",
    "                        cv = folds, \n",
    "                        verbose = 1,\n",
    "                        return_train_score=True)      \n",
    "\n"
   ]
  },
  {
   "cell_type": "code",
   "execution_count": null,
   "id": "be4fc9f3",
   "metadata": {
    "_cell_guid": "bfbc46d5-708a-477c-bd72-7722bf09e6ba",
    "_uuid": "dd828f9d6467b353a835f4163fcda0e6d662c24b",
    "scrolled": false
   },
   "outputs": [],
   "source": [
    "# fit the model\n",
    "model_cv.fit(X_train, y_train)       "
   ]
  },
  {
   "cell_type": "code",
   "execution_count": null,
   "id": "564bfe37",
   "metadata": {
    "_cell_guid": "f858e220-b38f-41e2-b083-06d8f5eb742b",
    "_uuid": "afd9d9144b8f8817cdc03b1a1f568f920650a48b",
    "scrolled": true
   },
   "outputs": [],
   "source": [
    "# cv results\n",
    "cv_results = pd.DataFrame(model_cv.cv_results_)\n",
    "cv_results"
   ]
  },
  {
   "cell_type": "code",
   "execution_count": null,
   "id": "733723c1",
   "metadata": {
    "_cell_guid": "332390e9-408e-433f-99fc-57e65c35b35e",
    "_uuid": "732bab662743e56fc8fe70c0930d3ce8ee25b126"
   },
   "outputs": [],
   "source": [
    "# convert parameters to int for plotting on x-axis\n",
    "cv_results['param_learning_rate'] = cv_results['param_learning_rate'].astype('float')\n",
    "#cv_results['param_max_depth'] = cv_results['param_max_depth'].astype('float')\n",
    "cv_results.head()"
   ]
  },
  {
   "cell_type": "code",
   "execution_count": null,
   "id": "1efe7c03",
   "metadata": {
    "_cell_guid": "fdb04f9e-4ada-4413-a8ae-a8bbb2cf2fac",
    "_uuid": "6e4a1bf2aea84e1361fd3234c228991273fa3ac5",
    "scrolled": false
   },
   "outputs": [],
   "source": [
    "# # plotting\n",
    "plt.figure(figsize=(16,6))\n",
    "\n",
    "param_grid = {'learning_rate': [0.2, 0.6], \n",
    "             'subsample': [0.1, 0.2,0.3]} \n",
    "\n",
    "\n",
    "for n, subsample in enumerate(param_grid['subsample']):\n",
    "    \n",
    "\n",
    "    # subplot 1/n\n",
    "    plt.subplot(1,len(param_grid['subsample']), n+1)\n",
    "    df = cv_results[cv_results['param_subsample']==subsample]\n",
    "\n",
    "    plt.plot(df[\"param_learning_rate\"], df[\"mean_test_score\"])\n",
    "    plt.plot(df[\"param_learning_rate\"], df[\"mean_train_score\"])\n",
    "    plt.xlabel('learning_rate')\n",
    "    plt.ylabel('AUC')\n",
    "    plt.title(\"subsample={0}\".format(subsample))\n",
    "    plt.ylim([0.60, 1])\n",
    "    plt.legend(['test score', 'train score'], loc='upper left')\n",
    "    plt.xscale('log')"
   ]
  },
  {
   "cell_type": "markdown",
   "id": "772a9e98",
   "metadata": {
    "_cell_guid": "21bd521a-86d8-4e42-8e98-c2bfb83f5248",
    "_uuid": "853a028f77dfabc43dc167b4cd92ca9418818106"
   },
   "source": [
    "The results show that a subsample size of 0.6 and learning_rate of about 0.2 seems optimal. \n",
    "Also, XGBoost has resulted in the highest ROC AUC obtained (across various hyperparameters). \n",
    "\n",
    "\n",
    "Let's build a final model with the chosen hyperparameters."
   ]
  },
  {
   "cell_type": "code",
   "execution_count": null,
   "id": "5df9f488",
   "metadata": {
    "_cell_guid": "f64f6dd4-1594-434d-b006-2607929c7848",
    "_uuid": "f6d26a03087caa6804c67bec109399f32a86e4fb"
   },
   "outputs": [],
   "source": [
    "# chosen hyperparameters\n",
    "# 'objective':'binary:logistic' outputs probability rather than label, which we need for auc\n",
    "params = {'learning_rate': 0.1,\n",
    "          'max_depth': 3, \n",
    "          'n_estimators':200,\n",
    "          'subsample':0.2,\n",
    "         'objective':'binary:logistic'}\n",
    "\n",
    "# fit model on training data\n",
    "model = XGBClassifier(params = params)\n",
    "model.fit(X_train, y_train)"
   ]
  },
  {
   "cell_type": "code",
   "execution_count": null,
   "id": "4c9c2d54",
   "metadata": {
    "_cell_guid": "4a8c73d2-d546-4741-9f81-99359a268e7d",
    "_uuid": "2bdcff9ae7faeeeac19bce56367f6f559fe9835e",
    "scrolled": false
   },
   "outputs": [],
   "source": [
    "# predict\n",
    "y_pred = model.predict_proba(X_test)\n",
    "y_pred[:10]"
   ]
  },
  {
   "cell_type": "markdown",
   "id": "719a4b93",
   "metadata": {
    "_cell_guid": "02d2e492-87ef-4eb8-b028-09089fbaae18",
    "_uuid": "072559ae029cf30f092bd89c571ac7e981e1a0bf"
   },
   "source": [
    "The first column in y_pred is the P(0), i.e. P(not fraud), and the second column is P(1/fraud)."
   ]
  },
  {
   "cell_type": "code",
   "execution_count": null,
   "id": "51f01fc2",
   "metadata": {
    "_cell_guid": "fbf9a886-13ce-44f2-8489-7f903236f938",
    "_uuid": "fa63f1fa85a985837b2c77af4208b98522c86632",
    "scrolled": false
   },
   "outputs": [],
   "source": [
    "# roc_auc\n",
    "import sklearn\n",
    "auc = sklearn.metrics.roc_auc_score(y_test, y_pred[:, 1])\n",
    "auc"
   ]
  },
  {
   "cell_type": "markdown",
   "id": "b440a083",
   "metadata": {},
   "source": [
    "Finally, let's also look at the feature importances."
   ]
  },
  {
   "cell_type": "code",
   "execution_count": null,
   "id": "09bdb0f4",
   "metadata": {
    "scrolled": false
   },
   "outputs": [],
   "source": [
    "# feature importance\n",
    "importance = dict(zip(X_train.columns, model.feature_importances_))\n",
    "importance"
   ]
  },
  {
   "cell_type": "code",
   "execution_count": null,
   "id": "b76dc227",
   "metadata": {
    "scrolled": false
   },
   "outputs": [],
   "source": [
    "# plot\n",
    "plt.bar(range(len(model.feature_importances_)), model.feature_importances_)\n",
    "plt.show()"
   ]
  },
  {
   "cell_type": "markdown",
   "id": "0ab9184a",
   "metadata": {},
   "source": [
    "# 6. GUI development:"
   ]
  },
  {
   "cell_type": "code",
   "execution_count": null,
   "id": "2c190d61",
   "metadata": {},
   "outputs": [],
   "source": [
    "import tkinter\n",
    "from tkinter import ttk\n",
    "from tkinter.ttk import *"
   ]
  },
  {
   "cell_type": "code",
   "execution_count": null,
   "id": "3f42d2e2",
   "metadata": {},
   "outputs": [],
   "source": [
    "replaceStructure= {\n",
    "    \"gender\" : {\"Female\" : 0, \"Male\" : 1},\n",
    "    \"SeniorCitizen\" : {\"0\":0,\"1\":1},\n",
    "    \"Partner\" : {\"No\": 0, \"Yes\": 1},\n",
    "    \"Dependents\" : {\"No\": 0, \"Yes\": 1},\n",
    "    \"PhoneService\" : {\"No\": 0, \"Yes\": 1},\n",
    "    \"MultipleLines\" : {\"No\": 0, \"Yes\": 1, \"No phone service\" : 0},\n",
    "    \"InternetService\" : {\"No\" :0, \"DSL\" : 1 , \"Fiber optic\" : 2},\n",
    "    \"OnlineSecurity\" : {\"No\" : 0 , \"Yes\" : 1, \"No internet service\" : 0},\n",
    "    \"OnlineBackup\" : {\"No\" : 0 , \"Yes\" : 1 , \"No internet service\" : 0},\n",
    "    \"DeviceProtection\" : {\"No\" : 0 , \"Yes\" : 1, \"No internet service\" : 0},\n",
    "    \"TechSupport\" : {\"No\" : 0 , \"Yes\" : 1 , \"No internet service\" : 0},\n",
    "    \"StreamingTV\" : {\"No\" : 0 , \"Yes\" : 1, \"No internet service\" : 0},\n",
    "    \"StreamingMovies\" : {\"No\" : 0 , \"Yes\" : 1 , \"No internet service\" : 0},\n",
    "    \"Contract\" : {\"Month-to-month\": 0 , \"One year\" : 1 , \"Two year\" : 2},\n",
    "    \"PaperlessBilling\" : {\"No\": 0, \"Yes\": 1},\n",
    "    \"PaymentMethod\" : {\"Electronic check\" : 0 , \"Mailed check\" : 1, \"Bank transfer (automatic)\" : 2 , \"Credit card (automatic)\" : 3},\n",
    "    \"Churn\" : {\"No\": 0, \"Yes\": 1}\n",
    "}"
   ]
  },
  {
   "cell_type": "code",
   "execution_count": null,
   "id": "8cb51683",
   "metadata": {},
   "outputs": [],
   "source": [
    "def gender_select(event):\n",
    "    global vargender\n",
    "    vargender= combo0.get()\n",
    "    \n",
    "def SeniorCitizen_select(event):\n",
    "    global varSeniorCitizen\n",
    "    varSeniorCitizen= combo1.get()\n",
    "    \n",
    "def Partner_select(event):\n",
    "    global varPartner\n",
    "    varPartner= combo2.get()\n",
    "    \n",
    "def Dependents_select(event):\n",
    "    global varDependents\n",
    "    varDependents= combo3.get()\n",
    "    \n",
    "def PhoneService_select(event):\n",
    "    global varPhoneService\n",
    "    varPhoneService= combo5.get()\n",
    "\n",
    "def MultipleLines_select(event):\n",
    "    global varMultipleLines\n",
    "    varMultipleLines= combo6.get()\n",
    "    \n",
    "def InternetService_select(event):\n",
    "    global varInternetService\n",
    "    varInternetService= combo7.get()\n",
    "    \n",
    "def OnlineSecurity_select(event):\n",
    "    global varOnlineSecurity\n",
    "    varOnlineSecurity= combo8.get()\n",
    "    \n",
    "def OnlineBackup_select(event):\n",
    "    global varOnlineBackup\n",
    "    varOnlineBackup= combo9.get()\n",
    "    \n",
    "def DeviceProtection_select(event):\n",
    "    global varDeviceProtection\n",
    "    varDeviceProtection= combo10.get()\n",
    "    \n",
    "def TechSupport_select(event):\n",
    "    global varTechSupport\n",
    "    varTechSupport= combo11.get()\n",
    "    \n",
    "def StreamingTV_select(event):\n",
    "    global varStreamingTV\n",
    "    varStreamingTV= combo12.get()\n",
    "    \n",
    "def StreamingMovies_select(event):\n",
    "    global varStreamingMovies\n",
    "    varStreamingMovies= combo13.get()\n",
    "    \n",
    "def Contract_select(event):\n",
    "    global varContract\n",
    "    varContract= combo14.get()\n",
    "    \n",
    "def PaperlessBilling_select(event):\n",
    "    global varPaperlessBilling\n",
    "    varPaperlessBilling= combo15.get()\n",
    "    \n",
    "def PaymentMethod_select(event):\n",
    "    global varPaymentMethod\n",
    "    varPaymentMethod= combo16.get()"
   ]
  },
  {
   "cell_type": "code",
   "execution_count": null,
   "id": "2fd5ca6f",
   "metadata": {},
   "outputs": [],
   "source": [
    "def func_submit():\n",
    "    cols=X_train.columns\n",
    "    global X_predict\n",
    "    X_predict=pd.DataFrame(columns=cols)\n",
    "    pd.to_numeric(X_predict.SeniorCitizen, errors='coerce')\n",
    "    global varTenure\n",
    "    global varMonthlyCharges\n",
    "    global varTotalCharges\n",
    "    varTenure=float(Tenure_var.get())\n",
    "    varMonthlyCharges=float(MonthlyCharges_var.get())\n",
    "    varTotalCharges=float(TotalCharges_var.get())\n",
    "    X_predict.loc[0]=[vargender,varSeniorCitizen,varPartner,varDependents,varTenure,varPhoneService,varMultipleLines,varInternetService,varOnlineSecurity,varOnlineBackup,varDeviceProtection,varTechSupport,varStreamingTV,varStreamingMovies,varContract,varPaperlessBilling,varPaymentMethod,varMonthlyCharges,varTotalCharges]\n",
    "    X_predict=X_predict.replace(replaceStructure)"
   ]
  },
  {
   "cell_type": "code",
   "execution_count": null,
   "id": "b4ba5c76",
   "metadata": {},
   "outputs": [],
   "source": [
    "def func_predict():\n",
    "    global expr\n",
    "    if model.predict(X_predict)[0]==0:\n",
    "        expr = \"No\"\n",
    "    else:\n",
    "        expr = \"Yes\"\n",
    "    output.set(expr)"
   ]
  },
  {
   "cell_type": "code",
   "execution_count": null,
   "id": "ac727d2c",
   "metadata": {},
   "outputs": [],
   "source": [
    "window = tkinter.Tk()\n",
    "window.title(\"Ensemble Techniques\")\n",
    "\n",
    "Tenure_var=tkinter.StringVar()\n",
    "MonthlyCharges_var=tkinter.StringVar()\n",
    "TotalCharges_var=tkinter.StringVar()\n",
    "output = tkinter.StringVar()\n",
    "expr=\"\"\n",
    "\n",
    "#column 0 - attributes\n",
    "\n",
    "tkinter.Label(window, text=\"gender\").grid(row=0)              #placed in 0 0\n",
    "tkinter.Label(window, text=\"Senior Citizen\").grid(row=1)      #placed in 1 0\n",
    "tkinter.Label(window, text=\"Partner\").grid(row=2)             #placed in 2 0\n",
    "tkinter.Label(window, text=\"Dependents\").grid(row=3)          #placed in 3 0\n",
    "tkinter.Label(window, text=\"Tenure\").grid(row=4)              #placed in 4 0\n",
    "tkinter.Label(window, text=\"Phone Service\").grid(row=5)       #placed in 5 0\n",
    "tkinter.Label(window, text=\"Multiple Lines\").grid(row=6)      #placed in 6 0\n",
    "tkinter.Label(window, text=\"Internet Service\").grid(row=7)    #placed in 7 0\n",
    "tkinter.Label(window, text=\"Online Security\").grid(row=8)     #placed in 8 0\n",
    "tkinter.Label(window, text=\"Online Backup\").grid(row=9)       #placed in 9 0\n",
    "tkinter.Label(window, text=\"Device Protection\").grid(row=10)  #placed in 10 0\n",
    "tkinter.Label(window, text=\"Tech Support\").grid(row=11)       #placed in 11 0\n",
    "tkinter.Label(window, text=\"Streaming TV\").grid(row=12)       #placed in 12 0\n",
    "tkinter.Label(window, text=\"Streaming Movies\").grid(row=13)   #placed in 13 0\n",
    "tkinter.Label(window, text=\"Contract\").grid(row=14)           #placed in 14 0\n",
    "tkinter.Label(window, text=\"Paperless Billing\").grid(row=15)  #placed in 15 0\n",
    "tkinter.Label(window, text=\"Payment Method\").grid(row=16)     #placed in 16 0\n",
    "tkinter.Label(window, text=\"Monthly Charges\").grid(row=17)    #placed in 17 0\n",
    "tkinter.Label(window, text=\"Total Charges\").grid(row=18)      #placed in 18 0\n",
    "\n",
    "#column 0 - buttons\n",
    "\n",
    "btn_submit = tkinter.Button(window, text=' Submit ', fg='black', height=1, width=7,command=func_submit).grid(row=19, column=0)    #placed in 19 0\n",
    "btn_predict = tkinter.Button(window, text=' Predict ', fg='black', height=1, width=7, command=func_predict).grid(row=20, column=0)  #placed in 20 0\n",
    "\n",
    "\n",
    "\n",
    "#column 1 - entries\n",
    "\n",
    "entTenure=tkinter.Entry(window,textvariable = Tenure_var).grid(row=4,column=1)                    #placed in 4 1\n",
    "entMonthlyCharges=tkinter.Entry(window,textvariable = MonthlyCharges_var).grid(row=17,column=1)   #placed in 17 1\n",
    "entTotalCharges=tkinter.Entry(window,textvariable = TotalCharges_var).grid(row=18,column=1)       #placed in 18 1\n",
    "\n",
    "#column 1 - dropdowns\n",
    "\n",
    "combo0 = ttk.Combobox(window)\n",
    "combo0['values']=('Female','Male')\n",
    "combo0.grid(row = 0, column =1)\n",
    "combo0.bind(\"<<ComboboxSelected>>\", gender_select)            #placed in 0 1\n",
    "\n",
    "combo1 = ttk.Combobox(window)\n",
    "combo1['values']=(0,1)\n",
    "combo1.grid(row = 1, column =1)\n",
    "combo1.bind(\"<<ComboboxSelected>>\", SeniorCitizen_select)     #placed in 1 1\n",
    "\n",
    "combo2 = ttk.Combobox(window)\n",
    "combo2['values']=('No','Yes')\n",
    "combo2.grid(row = 2, column =1)\n",
    "combo2.bind(\"<<ComboboxSelected>>\", Partner_select)           #placed in 2 1\n",
    "\n",
    "combo3 = ttk.Combobox(window)\n",
    "combo3['values']=('No','Yes')\n",
    "combo3.grid(row = 3, column =1)\n",
    "combo3.bind(\"<<ComboboxSelected>>\", Dependents_select)        #placed in 3 1\n",
    "\n",
    "combo5 = ttk.Combobox(window)\n",
    "combo5['values']=('No','Yes')\n",
    "combo5.grid(row = 5, column =1)\n",
    "combo5.bind(\"<<ComboboxSelected>>\", PhoneService_select)      #placed in 5 1\n",
    "\n",
    "combo6 = ttk.Combobox(window)\n",
    "combo6['values']=('No','Yes','No phone service')\n",
    "combo6.grid(row = 6, column =1)\n",
    "combo6.bind(\"<<ComboboxSelected>>\", MultipleLines_select)     #placed in 6 1\n",
    "\n",
    "combo7 = ttk.Combobox(window)\n",
    "combo7['values']=('No','DSL','Fiber optic')\n",
    "combo7.grid(row = 7, column =1)\n",
    "combo7.bind(\"<<ComboboxSelected>>\", InternetService_select)   #placed in 7 1\n",
    "\n",
    "combo8 = ttk.Combobox(window)\n",
    "combo8['values']=('No','Yes','No internet service')\n",
    "combo8.grid(row = 8, column =1)\n",
    "combo8.bind(\"<<ComboboxSelected>>\", OnlineSecurity_select)    #placed in 8 1\n",
    "\n",
    "combo9 = ttk.Combobox(window)\n",
    "combo9['values']=('No','Yes','No internet service')\n",
    "combo9.grid(row = 9, column =1)\n",
    "combo9.bind(\"<<ComboboxSelected>>\", OnlineBackup_select)      #placed in 9 1\n",
    "\n",
    "combo10 = ttk.Combobox(window)\n",
    "combo10['values']=('No','Yes','No internet service')\n",
    "combo10.grid(row = 10, column =1)\n",
    "combo10.bind(\"<<ComboboxSelected>>\", DeviceProtection_select) #placed in 10 1\n",
    "\n",
    "combo11 = ttk.Combobox(window)\n",
    "combo11['values']=('No','Yes','No internet service')\n",
    "combo11.grid(row = 11, column =1)\n",
    "combo11.bind(\"<<ComboboxSelected>>\", TechSupport_select)      #placed in 11 1\n",
    "\n",
    "combo12 = ttk.Combobox(window)\n",
    "combo12['values']=('No','Yes','No internet service')\n",
    "combo12.grid(row = 12, column =1)\n",
    "combo12.bind(\"<<ComboboxSelected>>\", StreamingTV_select)      #placed in 12 1\n",
    "\n",
    "combo13 = ttk.Combobox(window)\n",
    "combo13['values']=('No','Yes','No internet service')\n",
    "combo13.grid(row = 13, column =1)\n",
    "combo13.bind(\"<<ComboboxSelected>>\", StreamingMovies_select) #placed in 13 1\n",
    "\n",
    "combo14 = ttk.Combobox(window)\n",
    "combo14['values']=(\"Month-to-month\" , \"One year\" , \"Two year\")\n",
    "combo14.grid(row = 14, column =1)\n",
    "combo14.bind(\"<<ComboboxSelected>>\", Contract_select)        #placed in 14 1\n",
    "\n",
    "combo15 = ttk.Combobox(window)\n",
    "combo15['values']=('No','Yes')\n",
    "combo15.grid(row = 15, column =1)\n",
    "combo15.bind(\"<<ComboboxSelected>>\", PaperlessBilling_select)#placed in 15 1\n",
    "\n",
    "combo16 = ttk.Combobox(window)\n",
    "combo16['values']=(\"Electronic check\" , \"Mailed check\" , \"Bank transfer (automatic)\" , \"Credit card (automatic)\")\n",
    "combo16.grid(row = 16, column =1)\n",
    "combo16.bind(\"<<ComboboxSelected>>\", PaymentMethod_select)  #placed in 16 1\n",
    "\n",
    "\n",
    "#Output\n",
    "entoutput=tkinter.Entry(window,textvariable = output).grid(row=20,column=1)\n",
    "\n",
    "  \n",
    "window.mainloop()"
   ]
  },
  {
   "cell_type": "markdown",
   "id": "a7fa7ba7",
   "metadata": {},
   "source": [
    "## Below are the screenshots of the outputs of the GUI"
   ]
  },
  {
   "attachments": {
    "image.png": {
     "image/png": "[encoded data removed]"
    }
   },
   "cell_type": "markdown",
   "id": "4dd6edfd",
   "metadata": {},
   "source": [
    "![image.png](attachment:image.png)"
   ]
  },
  {
   "attachments": {
    "image.png": {
     "image/png": "[encoded data removed]"
    }
   },
   "cell_type": "markdown",
   "id": "9442ca3c",
   "metadata": {},
   "source": [
    "![image.png](attachment:image.png)"
   ]
  },
  {
   "cell_type": "markdown",
   "id": "6df61bf9",
   "metadata": {},
   "source": [
    "# 7. Conclusion and improvisation:"
   ]
  },
  {
   "cell_type": "markdown",
   "id": "e0eba773",
   "metadata": {},
   "source": [
    "#### We have implemented a lot of ensemble techniques in the project. We started with a simple decision tree and then we made our way to more and more complex ensemble techniques like Bagging, Adaboosting, GradientBoost, Random Forest and XGboost. For each ensemble technique we have also implemented hyperparameter tuning. Thus ensuring the best fit for the prediction.\n",
    "\n",
    "#### Apart from the Ensemble Techniques, we have also build a GUI application with Tkinter library. "
   ]
  },
  {
   "cell_type": "markdown",
   "id": "ea0affb0",
   "metadata": {},
   "source": [
    "#### In future the data should include:\n",
    "\n",
    "• Level of satisfaction of the user with respect to the product.\n",
    "\n",
    "• Nature of the competetion that has the potential to take away the customer.\n",
    "\n",
    "• Level of satisfaction of the user with respect to the services like customer support and offers."
   ]
  },
  {
   "cell_type": "code",
   "execution_count": null,
   "id": "722c4201",
   "metadata": {},
   "outputs": [],
   "source": []
  }
 ],
 "metadata": {
  "kernelspec": {
   "display_name": "Python 3 (ipykernel)",
   "language": "python",
   "name": "python3"
  },
  "language_info": {
   "codemirror_mode": {
    "name": "ipython",
    "version": 3
   },
   "file_extension": ".py",
   "mimetype": "text/x-python",
   "name": "python",
   "nbconvert_exporter": "python",
   "pygments_lexer": "ipython3",
   "version": "3.9.13"
  }
 },
 "nbformat": 4,
 "nbformat_minor": 5
}
